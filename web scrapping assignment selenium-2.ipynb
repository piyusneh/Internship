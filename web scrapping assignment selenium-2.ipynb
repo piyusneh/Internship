{
 "cells": [
  {
   "cell_type": "code",
   "execution_count": 25,
   "id": "db27de4a",
   "metadata": {},
   "outputs": [],
   "source": [
    "import selenium\n",
    "import pandas as pd\n",
    "from selenium.webdriver.common.by import By\n",
    "import warnings\n",
    "warnings.filterwarnings(\"ignore\")\n",
    "import time"
   ]
  },
  {
   "cell_type": "code",
   "execution_count": 73,
   "id": "d3c09731",
   "metadata": {},
   "outputs": [
    {
     "data": {
      "text/plain": [
       "<selenium.webdriver.chrome.webdriver.WebDriver (session=\"3c1fc0f5fc834f66829d6c0a383ab3ff\")>"
      ]
     },
     "execution_count": 73,
     "metadata": {},
     "output_type": "execute_result"
    }
   ],
   "source": [
    "driver = webdriver.Chrome(r'C:\\Users\\ASUS\\Desktop\\sneha\\Datatrained\\chromedriver_win32\\chromedriver.exe')\n",
    "driver"
   ]
  },
  {
   "cell_type": "code",
   "execution_count": 18,
   "id": "9ed4a034",
   "metadata": {},
   "outputs": [],
   "source": [
    "driver.maximize_window()"
   ]
  },
  {
   "cell_type": "code",
   "execution_count": 19,
   "id": "4d441e84",
   "metadata": {},
   "outputs": [],
   "source": [
    "url ='https://www.naukri.com/'\n",
    "driver.get(url)"
   ]
  },
  {
   "cell_type": "code",
   "execution_count": 26,
   "id": "6103c9f9",
   "metadata": {},
   "outputs": [],
   "source": [
    "search_field_designation = driver.find_element(By.CLASS_NAME,\"suggestor-input \")\n",
    "search_field_designation.send_keys(\"Data Analyst\")"
   ]
  },
  {
   "cell_type": "code",
   "execution_count": 34,
   "id": "827432a9",
   "metadata": {},
   "outputs": [],
   "source": [
    "search_field_designation = driver.find_element(By.XPATH,'/html/body/div[1]/div[6]/div/div/div[5]/div/div/div/input')\n",
    "search_field_designation.send_keys(\"Banglore\")"
   ]
  },
  {
   "cell_type": "code",
   "execution_count": 35,
   "id": "74cd6c23",
   "metadata": {},
   "outputs": [],
   "source": [
    "search_button= driver.find_element(By.CLASS_NAME,\"qsbSubmit\")\n",
    "search_button.click()"
   ]
  },
  {
   "cell_type": "code",
   "execution_count": 36,
   "id": "d5f7a878",
   "metadata": {},
   "outputs": [],
   "source": [
    "job_titles=[]\n",
    "company_names=[]\n",
    "location_list=[]\n",
    "experience_list=[]"
   ]
  },
  {
   "cell_type": "code",
   "execution_count": 42,
   "id": "a43c655f",
   "metadata": {},
   "outputs": [
    {
     "data": {
      "text/plain": [
       "20"
      ]
     },
     "execution_count": 42,
     "metadata": {},
     "output_type": "execute_result"
    }
   ],
   "source": [
    "job_titles =[]\n",
    "titles_tags=driver.find_elements(By.XPATH,\"//a[@class='title fw500 ellipsis']\")\n",
    "for i in titles_tags:\n",
    "     job_titles.append(i.text)  \n",
    "len(job_titles)"
   ]
  },
  {
   "cell_type": "code",
   "execution_count": 43,
   "id": "7f8e3f46",
   "metadata": {},
   "outputs": [
    {
     "data": {
      "text/plain": [
       "['Data Analyst',\n",
       " 'APRP Manager / Senior Data Analyst - MeritTrac Services',\n",
       " 'Sr Data Analyst',\n",
       " 'Senior Data Management Analyst',\n",
       " 'Senior Data Analyst - PLM Data Migration',\n",
       " 'People Data Analyst',\n",
       " 'Associate Healthcare Research & Data Analyst',\n",
       " 'Lead Data Analyst',\n",
       " 'Contractual Hiring For Top MNC || Business Data Analyst || Bangalore',\n",
       " 'Master Data Management Business Analyst',\n",
       " 'Data Analyst',\n",
       " 'Sr. Data Analyst (SAS Data Management)',\n",
       " 'Data Analyst',\n",
       " 'Analyst, Data Science',\n",
       " 'Data Analyst',\n",
       " 'Data Analyst 2',\n",
       " 'Senior Data Analyst',\n",
       " 'Sr Data Analyst',\n",
       " 'Data Analyst - FinTech',\n",
       " 'data analyst / data analytics - US MNC (analytics)']"
      ]
     },
     "execution_count": 43,
     "metadata": {},
     "output_type": "execute_result"
    }
   ],
   "source": [
    "job_titles"
   ]
  },
  {
   "cell_type": "code",
   "execution_count": 47,
   "id": "031fca47",
   "metadata": {},
   "outputs": [
    {
     "data": {
      "text/plain": [
       "20"
      ]
     },
     "execution_count": 47,
     "metadata": {},
     "output_type": "execute_result"
    }
   ],
   "source": [
    "comapany_names = []\n",
    "companies_tags=driver.find_elements(By.XPATH,\"//a[@class='subTitle ellipsis fleft']\")\n",
    "for i in companies_tags:\n",
    "    comapany_names.append(i.text)  \n",
    "len(comapany_names)\n"
   ]
  },
  {
   "cell_type": "code",
   "execution_count": 50,
   "id": "16737eea",
   "metadata": {},
   "outputs": [
    {
     "data": {
      "text/plain": [
       "['Cargill',\n",
       " 'MeritTrac',\n",
       " 'Inspira Enterprise India Pvt. Ltd.',\n",
       " 'Wells Fargo',\n",
       " 'CGI',\n",
       " 'Western Digital',\n",
       " 'Clarivate',\n",
       " 'Mobile Premier League (MPL)',\n",
       " 'TeamLease',\n",
       " 'Accenture',\n",
       " 'Elasticsearch',\n",
       " 'NMS Consultant',\n",
       " 'IBM',\n",
       " 'Johnson amp;amp; Johnson Ltd',\n",
       " 'IBM',\n",
       " 'Zynga',\n",
       " 'Groundtruth',\n",
       " 'Mettox Laboratries',\n",
       " 'Upshoot HR Solutions Pvt. Ltd.',\n",
       " 'Aspyra HR Services']"
      ]
     },
     "execution_count": 50,
     "metadata": {},
     "output_type": "execute_result"
    }
   ],
   "source": [
    "comapany_names"
   ]
  },
  {
   "cell_type": "code",
   "execution_count": 67,
   "id": "e7bc9110",
   "metadata": {},
   "outputs": [
    {
     "data": {
      "text/plain": [
       "20"
      ]
     },
     "execution_count": 67,
     "metadata": {},
     "output_type": "execute_result"
    }
   ],
   "source": [
    " experience= []\n",
    "experience_tags = driver.find_elements(By.XPATH,\"//span[@class ='ellipsis fleft fs12 lh16 expwdth']\")\n",
    "for i in experience_tags:\n",
    "    experience.append(i.text)  \n",
    "    \n",
    "len( experience)"
   ]
  },
  {
   "cell_type": "code",
   "execution_count": 68,
   "id": "8a2b1518",
   "metadata": {},
   "outputs": [
    {
     "data": {
      "text/plain": [
       "20"
      ]
     },
     "execution_count": 68,
     "metadata": {},
     "output_type": "execute_result"
    }
   ],
   "source": [
    "\n",
    "location= []\n",
    "location_tags = driver.find_elements(By.XPATH,\"//span[@class ='ellipsis fleft fs12 lh16 locWdth']\")\n",
    "for i in location_tags:\n",
    "    location.append(i.text)  \n",
    "    \n",
    "len(location)"
   ]
  },
  {
   "cell_type": "code",
   "execution_count": 69,
   "id": "30e93bd4",
   "metadata": {},
   "outputs": [
    {
     "data": {
      "text/plain": [
       "['3-5 Yrs',\n",
       " '9-14 Yrs',\n",
       " '3-4 Yrs',\n",
       " '5-7 Yrs',\n",
       " '3-6 Yrs',\n",
       " '6-8 Yrs',\n",
       " '3-4 Yrs',\n",
       " '4-7 Yrs',\n",
       " '5-8 Yrs',\n",
       " '6-8 Yrs',\n",
       " '2-5 Yrs',\n",
       " '5-10 Yrs',\n",
       " '3-4 Yrs',\n",
       " '2-4 Yrs',\n",
       " '3-4 Yrs',\n",
       " '4-7 Yrs',\n",
       " '5-8 Yrs',\n",
       " '3-8 Yrs',\n",
       " '1-4 Yrs',\n",
       " '2-7 Yrs']"
      ]
     },
     "execution_count": 69,
     "metadata": {},
     "output_type": "execute_result"
    }
   ],
   "source": [
    "experience"
   ]
  },
  {
   "cell_type": "code",
   "execution_count": 70,
   "id": "da99f206",
   "metadata": {},
   "outputs": [
    {
     "data": {
      "text/plain": [
       "['Bangalore/Bengaluru',\n",
       " 'Bangalore/Bengaluru',\n",
       " 'Bangalore/Bengaluru',\n",
       " 'Bangalore/Bengaluru',\n",
       " 'Bangalore/Bengaluru',\n",
       " 'Bangalore/Bengaluru',\n",
       " 'Bangalore/Bengaluru',\n",
       " 'Bangalore/Bengaluru',\n",
       " 'Bangalore/Bengaluru',\n",
       " 'Bangalore/Bengaluru',\n",
       " 'Bangalore/Bengaluru',\n",
       " 'New Delhi, Bangalore/Bengaluru',\n",
       " 'Bangalore/Bengaluru',\n",
       " 'Bangalore/Bengaluru',\n",
       " 'Bangalore/Bengaluru',\n",
       " 'Bangalore/Bengaluru',\n",
       " 'Hybrid - Gurgaon/Gurugram, Bangalore/Bengaluru',\n",
       " 'Bangalore/Bengaluru',\n",
       " 'Bangalore/Bengaluru',\n",
       " 'Temp. WFH - Gurgaon/Gurugram, Bangalore/Bengaluru']"
      ]
     },
     "execution_count": 70,
     "metadata": {},
     "output_type": "execute_result"
    }
   ],
   "source": [
    "location"
   ]
  },
  {
   "cell_type": "code",
   "execution_count": 72,
   "id": "e8c63edf",
   "metadata": {},
   "outputs": [
    {
     "data": {
      "text/html": [
       "<div>\n",
       "<style scoped>\n",
       "    .dataframe tbody tr th:only-of-type {\n",
       "        vertical-align: middle;\n",
       "    }\n",
       "\n",
       "    .dataframe tbody tr th {\n",
       "        vertical-align: top;\n",
       "    }\n",
       "\n",
       "    .dataframe thead th {\n",
       "        text-align: right;\n",
       "    }\n",
       "</style>\n",
       "<table border=\"1\" class=\"dataframe\">\n",
       "  <thead>\n",
       "    <tr style=\"text-align: right;\">\n",
       "      <th></th>\n",
       "      <th>title</th>\n",
       "      <th>company</th>\n",
       "      <th>location</th>\n",
       "      <th>experience</th>\n",
       "    </tr>\n",
       "  </thead>\n",
       "  <tbody>\n",
       "    <tr>\n",
       "      <th>0</th>\n",
       "      <td>Data Analyst</td>\n",
       "      <td>Cargill</td>\n",
       "      <td>Bangalore/Bengaluru</td>\n",
       "      <td>3-5 Yrs</td>\n",
       "    </tr>\n",
       "    <tr>\n",
       "      <th>1</th>\n",
       "      <td>APRP Manager / Senior Data Analyst - MeritTrac...</td>\n",
       "      <td>MeritTrac</td>\n",
       "      <td>Bangalore/Bengaluru</td>\n",
       "      <td>9-14 Yrs</td>\n",
       "    </tr>\n",
       "    <tr>\n",
       "      <th>2</th>\n",
       "      <td>Sr Data Analyst</td>\n",
       "      <td>Inspira Enterprise India Pvt. Ltd.</td>\n",
       "      <td>Bangalore/Bengaluru</td>\n",
       "      <td>3-4 Yrs</td>\n",
       "    </tr>\n",
       "    <tr>\n",
       "      <th>3</th>\n",
       "      <td>Senior Data Management Analyst</td>\n",
       "      <td>Wells Fargo</td>\n",
       "      <td>Bangalore/Bengaluru</td>\n",
       "      <td>5-7 Yrs</td>\n",
       "    </tr>\n",
       "    <tr>\n",
       "      <th>4</th>\n",
       "      <td>Senior Data Analyst - PLM Data Migration</td>\n",
       "      <td>CGI</td>\n",
       "      <td>Bangalore/Bengaluru</td>\n",
       "      <td>3-6 Yrs</td>\n",
       "    </tr>\n",
       "    <tr>\n",
       "      <th>5</th>\n",
       "      <td>People Data Analyst</td>\n",
       "      <td>Western Digital</td>\n",
       "      <td>Bangalore/Bengaluru</td>\n",
       "      <td>6-8 Yrs</td>\n",
       "    </tr>\n",
       "    <tr>\n",
       "      <th>6</th>\n",
       "      <td>Associate Healthcare Research &amp; Data Analyst</td>\n",
       "      <td>Clarivate</td>\n",
       "      <td>Bangalore/Bengaluru</td>\n",
       "      <td>3-4 Yrs</td>\n",
       "    </tr>\n",
       "    <tr>\n",
       "      <th>7</th>\n",
       "      <td>Lead Data Analyst</td>\n",
       "      <td>Mobile Premier League (MPL)</td>\n",
       "      <td>Bangalore/Bengaluru</td>\n",
       "      <td>4-7 Yrs</td>\n",
       "    </tr>\n",
       "    <tr>\n",
       "      <th>8</th>\n",
       "      <td>Contractual Hiring For Top MNC || Business Dat...</td>\n",
       "      <td>TeamLease</td>\n",
       "      <td>Bangalore/Bengaluru</td>\n",
       "      <td>5-8 Yrs</td>\n",
       "    </tr>\n",
       "    <tr>\n",
       "      <th>9</th>\n",
       "      <td>Master Data Management Business Analyst</td>\n",
       "      <td>Accenture</td>\n",
       "      <td>Bangalore/Bengaluru</td>\n",
       "      <td>6-8 Yrs</td>\n",
       "    </tr>\n",
       "  </tbody>\n",
       "</table>\n",
       "</div>"
      ],
      "text/plain": [
       "                                               title  \\\n",
       "0                                       Data Analyst   \n",
       "1  APRP Manager / Senior Data Analyst - MeritTrac...   \n",
       "2                                    Sr Data Analyst   \n",
       "3                     Senior Data Management Analyst   \n",
       "4           Senior Data Analyst - PLM Data Migration   \n",
       "5                                People Data Analyst   \n",
       "6       Associate Healthcare Research & Data Analyst   \n",
       "7                                  Lead Data Analyst   \n",
       "8  Contractual Hiring For Top MNC || Business Dat...   \n",
       "9            Master Data Management Business Analyst   \n",
       "\n",
       "                              company             location experience  \n",
       "0                             Cargill  Bangalore/Bengaluru    3-5 Yrs  \n",
       "1                           MeritTrac  Bangalore/Bengaluru   9-14 Yrs  \n",
       "2  Inspira Enterprise India Pvt. Ltd.  Bangalore/Bengaluru    3-4 Yrs  \n",
       "3                         Wells Fargo  Bangalore/Bengaluru    5-7 Yrs  \n",
       "4                                 CGI  Bangalore/Bengaluru    3-6 Yrs  \n",
       "5                     Western Digital  Bangalore/Bengaluru    6-8 Yrs  \n",
       "6                           Clarivate  Bangalore/Bengaluru    3-4 Yrs  \n",
       "7         Mobile Premier League (MPL)  Bangalore/Bengaluru    4-7 Yrs  \n",
       "8                           TeamLease  Bangalore/Bengaluru    5-8 Yrs  \n",
       "9                           Accenture  Bangalore/Bengaluru    6-8 Yrs  "
      ]
     },
     "execution_count": 72,
     "metadata": {},
     "output_type": "execute_result"
    }
   ],
   "source": [
    "jobs=pd.DataFrame({})\n",
    "jobs['title']=job_titles[:10]\n",
    "jobs['company']=comapany_names[:10]\n",
    "jobs['location']=location[:10]\n",
    "jobs['experience']= experience[:10]\n",
    "jobs"
   ]
  },
  {
   "cell_type": "code",
   "execution_count": null,
   "id": "ff273f9f",
   "metadata": {},
   "outputs": [],
   "source": []
  },
  {
   "cell_type": "markdown",
   "id": "65ba0778",
   "metadata": {},
   "source": [
    "Q3: In this question you have to scrape data using the filters available on the webpage as shown below:# "
   ]
  },
  {
   "cell_type": "code",
   "execution_count": 75,
   "id": "fa60892c",
   "metadata": {},
   "outputs": [],
   "source": [
    "import selenium\n",
    "import pandas as pd\n",
    "from selenium import webdriver\n",
    "import warnings\n",
    "warnings.filterwarnings(\"ignore\")\n",
    "import time"
   ]
  },
  {
   "cell_type": "code",
   "execution_count": 76,
   "id": "b566f67d",
   "metadata": {},
   "outputs": [
    {
     "data": {
      "text/plain": [
       "<selenium.webdriver.chrome.webdriver.WebDriver (session=\"1d1d42b9a2c9ce546b422bf9226b8695\")>"
      ]
     },
     "execution_count": 76,
     "metadata": {},
     "output_type": "execute_result"
    }
   ],
   "source": [
    "driver = webdriver.Chrome(r'C:\\Users\\ASUS\\Desktop\\sneha\\Datatrained\\chromedriver_win32\\chromedriver.exe')\n",
    "driver"
   ]
  },
  {
   "cell_type": "code",
   "execution_count": 77,
   "id": "c25b891f",
   "metadata": {},
   "outputs": [],
   "source": [
    "driver.get('https://www.naukri.com/')"
   ]
  },
  {
   "cell_type": "code",
   "execution_count": 81,
   "id": "d74089a9",
   "metadata": {},
   "outputs": [],
   "source": [
    "search_field_designation = driver.find_element(By.CLASS_NAME,\"suggestor-input \")\n",
    "search_field_designation.send_keys(\"Data Scientist\")"
   ]
  },
  {
   "cell_type": "code",
   "execution_count": 84,
   "id": "73431380",
   "metadata": {},
   "outputs": [],
   "source": [
    "# Clicking on Search button\n",
    "search_button= driver.find_element(By.CLASS_NAME,\"qsbSubmit\")\n",
    "search_button.click()"
   ]
  },
  {
   "cell_type": "code",
   "execution_count": 86,
   "id": "b0d61d18",
   "metadata": {},
   "outputs": [],
   "source": [
    "location= []\n",
    "location_tags = driver.find_elements(By.XPATH,\"//span[@class ='ellipsis fleft fs12 lh16 locWdth']\")\n",
    "for i in location_tags:\n",
    "    location.append(i.text)  \n",
    "    "
   ]
  },
  {
   "cell_type": "code",
   "execution_count": 87,
   "id": "fc9c719c",
   "metadata": {},
   "outputs": [],
   "source": [
    "salary= []\n",
    "salary_tags = driver.find_elements(By.XPATH,\"//span[@class ='ellipsis fleft fs12 lh16 ']\")\n",
    "for i in salary_tags:\n",
    "    salary.append(i.text)  \n",
    "    "
   ]
  },
  {
   "cell_type": "code",
   "execution_count": 89,
   "id": "af435287",
   "metadata": {},
   "outputs": [
    {
     "data": {
      "text/plain": [
       "['Data Analyst',\n",
       " 'APRP Manager / Senior Data Analyst - MeritTrac Services',\n",
       " 'Sr Data Analyst',\n",
       " 'Senior Data Management Analyst',\n",
       " 'Senior Data Analyst - PLM Data Migration',\n",
       " 'People Data Analyst',\n",
       " 'Associate Healthcare Research & Data Analyst',\n",
       " 'Lead Data Analyst',\n",
       " 'Contractual Hiring For Top MNC || Business Data Analyst || Bangalore',\n",
       " 'Master Data Management Business Analyst',\n",
       " 'Data Analyst',\n",
       " 'Sr. Data Analyst (SAS Data Management)',\n",
       " 'Data Analyst',\n",
       " 'Analyst, Data Science',\n",
       " 'Data Analyst',\n",
       " 'Data Analyst 2',\n",
       " 'Senior Data Analyst',\n",
       " 'Sr Data Analyst',\n",
       " 'Data Analyst - FinTech',\n",
       " 'data analyst / data analytics - US MNC (analytics)',\n",
       " 'Analystics & Modeling Specialist',\n",
       " 'Assistant Manager - Data Science',\n",
       " 'Senior Data Scientist',\n",
       " 'Program Manager, Analytics',\n",
       " 'Data Scientist - Looking For Immediate Joiners',\n",
       " 'Senior Data Scientist',\n",
       " 'Data Scientist - II',\n",
       " 'Lead ML Scientist',\n",
       " 'Senior Data Scientist',\n",
       " 'Python Programming Language Data Science Practitioner',\n",
       " 'Industry X - Software Engineering',\n",
       " 'Data Scientist: Artificial Intelligence',\n",
       " 'ACN - Applied Intelligence - C4DI - Sustainability - 09',\n",
       " 'Data Scientist',\n",
       " 'Data Scientist',\n",
       " 'Data Scientist',\n",
       " 'ACN - Applied Intelligence - Data Scientist - 09',\n",
       " 'Data Scientist - 2',\n",
       " 'Data Scientist',\n",
       " 'Data Scientist']"
      ]
     },
     "execution_count": 89,
     "metadata": {},
     "output_type": "execute_result"
    }
   ],
   "source": [
    "titles_tags=driver.find_elements(By.XPATH,'//a[@class=\"title fw500 ellipsis\"]')\n",
    "titles_tags[:10]\n",
    "for i in titles_tags:\n",
    "    title=i.text\n",
    "    job_titles.append(title)\n",
    "    if len(job_titles)==10:\n",
    "        break\n",
    "job_titles"
   ]
  },
  {
   "cell_type": "code",
   "execution_count": 93,
   "id": "49d2e5c4",
   "metadata": {},
   "outputs": [
    {
     "data": {
      "text/plain": [
       "['Accenture',\n",
       " 'Citiustech',\n",
       " 'Wipro',\n",
       " 'Uber',\n",
       " 'Wipro',\n",
       " 'Boston Consulting Group',\n",
       " 'Bizongo',\n",
       " 'Fractal Analytics',\n",
       " 'Baker Hughes',\n",
       " 'Accenture']"
      ]
     },
     "execution_count": 93,
     "metadata": {},
     "output_type": "execute_result"
    }
   ],
   "source": [
    "companies_tags=driver.find_elements(By.XPATH,'//a[@class=\"subTitle ellipsis fleft\"]')\n",
    "companies_tags[:10]\n",
    "for i in companies_tags:\n",
    "    company_name= i.text\n",
    "    company_names.append(company_name)\n",
    "    if len(company_names)==10:\n",
    "        break\n",
    "company_names"
   ]
  },
  {
   "cell_type": "code",
   "execution_count": 96,
   "id": "0780d3ee",
   "metadata": {},
   "outputs": [
    {
     "data": {
      "text/html": [
       "<div>\n",
       "<style scoped>\n",
       "    .dataframe tbody tr th:only-of-type {\n",
       "        vertical-align: middle;\n",
       "    }\n",
       "\n",
       "    .dataframe tbody tr th {\n",
       "        vertical-align: top;\n",
       "    }\n",
       "\n",
       "    .dataframe thead th {\n",
       "        text-align: right;\n",
       "    }\n",
       "</style>\n",
       "<table border=\"1\" class=\"dataframe\">\n",
       "  <thead>\n",
       "    <tr style=\"text-align: right;\">\n",
       "      <th></th>\n",
       "      <th>title</th>\n",
       "      <th>company</th>\n",
       "    </tr>\n",
       "  </thead>\n",
       "  <tbody>\n",
       "    <tr>\n",
       "      <th>0</th>\n",
       "      <td>Data Analyst</td>\n",
       "      <td>Cargill</td>\n",
       "    </tr>\n",
       "    <tr>\n",
       "      <th>1</th>\n",
       "      <td>APRP Manager / Senior Data Analyst - MeritTrac...</td>\n",
       "      <td>MeritTrac</td>\n",
       "    </tr>\n",
       "    <tr>\n",
       "      <th>2</th>\n",
       "      <td>Sr Data Analyst</td>\n",
       "      <td>Inspira Enterprise India Pvt. Ltd.</td>\n",
       "    </tr>\n",
       "    <tr>\n",
       "      <th>3</th>\n",
       "      <td>Senior Data Management Analyst</td>\n",
       "      <td>Wells Fargo</td>\n",
       "    </tr>\n",
       "    <tr>\n",
       "      <th>4</th>\n",
       "      <td>Senior Data Analyst - PLM Data Migration</td>\n",
       "      <td>CGI</td>\n",
       "    </tr>\n",
       "    <tr>\n",
       "      <th>5</th>\n",
       "      <td>People Data Analyst</td>\n",
       "      <td>Western Digital</td>\n",
       "    </tr>\n",
       "    <tr>\n",
       "      <th>6</th>\n",
       "      <td>Associate Healthcare Research &amp; Data Analyst</td>\n",
       "      <td>Clarivate</td>\n",
       "    </tr>\n",
       "    <tr>\n",
       "      <th>7</th>\n",
       "      <td>Lead Data Analyst</td>\n",
       "      <td>Mobile Premier League (MPL)</td>\n",
       "    </tr>\n",
       "    <tr>\n",
       "      <th>8</th>\n",
       "      <td>Contractual Hiring For Top MNC || Business Dat...</td>\n",
       "      <td>TeamLease</td>\n",
       "    </tr>\n",
       "    <tr>\n",
       "      <th>9</th>\n",
       "      <td>Master Data Management Business Analyst</td>\n",
       "      <td>Accenture</td>\n",
       "    </tr>\n",
       "  </tbody>\n",
       "</table>\n",
       "</div>"
      ],
      "text/plain": [
       "                                               title  \\\n",
       "0                                       Data Analyst   \n",
       "1  APRP Manager / Senior Data Analyst - MeritTrac...   \n",
       "2                                    Sr Data Analyst   \n",
       "3                     Senior Data Management Analyst   \n",
       "4           Senior Data Analyst - PLM Data Migration   \n",
       "5                                People Data Analyst   \n",
       "6       Associate Healthcare Research & Data Analyst   \n",
       "7                                  Lead Data Analyst   \n",
       "8  Contractual Hiring For Top MNC || Business Dat...   \n",
       "9            Master Data Management Business Analyst   \n",
       "\n",
       "                              company  \n",
       "0                             Cargill  \n",
       "1                           MeritTrac  \n",
       "2  Inspira Enterprise India Pvt. Ltd.  \n",
       "3                         Wells Fargo  \n",
       "4                                 CGI  \n",
       "5                     Western Digital  \n",
       "6                           Clarivate  \n",
       "7         Mobile Premier League (MPL)  \n",
       "8                           TeamLease  \n",
       "9                           Accenture  "
      ]
     },
     "execution_count": 96,
     "metadata": {},
     "output_type": "execute_result"
    }
   ],
   "source": [
    "jobs=pd.DataFrame({})\n",
    "jobs['title']=job_titles[:10]\n",
    "jobs['company']=comapany_names[:10]\n",
    "\n",
    "jobs"
   ]
  },
  {
   "cell_type": "markdown",
   "id": "89daf6a8",
   "metadata": {},
   "source": [
    "Q4: Scrape data of first 100 sunglasses listings on flipkart.com. You have to scrape four attributes:\n",
    "\n",
    "Brand\n",
    "Product Description\n",
    "Price The attributes which you have to scrape is ticked marked in the below image"
   ]
  },
  {
   "cell_type": "code",
   "execution_count": 97,
   "id": "7f5c759e",
   "metadata": {},
   "outputs": [],
   "source": [
    "import selenium\n",
    "import pandas as pd\n",
    "from selenium import webdriver\n",
    "import warnings\n",
    "warnings.filterwarnings(\"ignore\")\n",
    "import time\n",
    "\n",
    "\n"
   ]
  },
  {
   "cell_type": "code",
   "execution_count": 98,
   "id": "41ecaa8d",
   "metadata": {},
   "outputs": [
    {
     "data": {
      "text/plain": [
       "<selenium.webdriver.chrome.webdriver.WebDriver (session=\"51c1df1cdd006f65ff279130157c04a1\")>"
      ]
     },
     "execution_count": 98,
     "metadata": {},
     "output_type": "execute_result"
    }
   ],
   "source": [
    "driver = webdriver.Chrome(r'C:\\Users\\ASUS\\Desktop\\sneha\\Datatrained\\chromedriver_win32\\chromedriver.exe')\n",
    "driver"
   ]
  },
  {
   "cell_type": "code",
   "execution_count": 99,
   "id": "8b1fb5cb",
   "metadata": {},
   "outputs": [],
   "source": [
    "driver.get('https://www.flipkart.com/')"
   ]
  },
  {
   "cell_type": "code",
   "execution_count": 100,
   "id": "265259a7",
   "metadata": {},
   "outputs": [],
   "source": [
    "search_glasses=driver.find_element(By.XPATH,'//input[@class=\"_3704LK\"]')\n",
    "search_glasses.send_keys(\"Sunglasses\")"
   ]
  },
  {
   "cell_type": "code",
   "execution_count": 105,
   "id": "f674a75b",
   "metadata": {},
   "outputs": [],
   "source": [
    "search_button=driver.find_element(By.XPATH,'/html/body/div[1]/div/div[1]/div[1]/div[2]/div[2]/form/div/button')\n",
    "search_button.click()"
   ]
  },
  {
   "cell_type": "code",
   "execution_count": 106,
   "id": "d4ac10c6",
   "metadata": {},
   "outputs": [],
   "source": [
    "glass_brand=[]\n",
    "Product_description=[]\n",
    "Price_product=[]\n",
    "Product_discount=[]"
   ]
  },
  {
   "cell_type": "code",
   "execution_count": 107,
   "id": "983ae696",
   "metadata": {},
   "outputs": [
    {
     "data": {
      "text/plain": [
       "['RESIST EYEWEAR',\n",
       " 'Poshh eyewear',\n",
       " 'Fastrack',\n",
       " 'Fastrack',\n",
       " 'PIRASO',\n",
       " 'Fastrack',\n",
       " 'New Specs',\n",
       " 'ROZZETTA CRAFT',\n",
       " 'SRPM',\n",
       " 'Sewell',\n",
       " 'ROZZETTA CRAFT',\n",
       " 'Resist',\n",
       " 'SRPM',\n",
       " 'Fastrack',\n",
       " 'SUNBEE',\n",
       " 'Fastrack',\n",
       " 'ROZZETTA CRAFT',\n",
       " 'ROZZETTA CRAFT',\n",
       " 'Fastrack',\n",
       " 'Elligator',\n",
       " 'DEXENT COLLECTION',\n",
       " 'ROZZETTA CRAFT',\n",
       " 'PIRASO',\n",
       " 'Fastrack',\n",
       " 'Fastrack',\n",
       " 'Elligator',\n",
       " 'Singco India',\n",
       " 'kingsunglasses',\n",
       " 'SHAAH COLLECTIONS',\n",
       " 'ROZZETTA CRAFT',\n",
       " 'SUNBEE',\n",
       " 'ROZZETTA CRAFT',\n",
       " 'Elligator',\n",
       " 'PIRASO',\n",
       " 'Fastrack',\n",
       " 'VINCENT CHASE',\n",
       " 'ROYAL SON',\n",
       " 'OCHILA',\n",
       " 'Fastrack',\n",
       " 'Fastrack']"
      ]
     },
     "execution_count": 107,
     "metadata": {},
     "output_type": "execute_result"
    }
   ],
   "source": [
    "brands=driver.find_elements(By.XPATH,'//div[@class=\"_2WkVRV\"]')\n",
    "for i in brands:\n",
    "    brand=i.text\n",
    "    glass_brand.append(brand)\n",
    "    if len(glass_brand)==40:\n",
    "        break\n",
    "glass_brand"
   ]
  },
  {
   "cell_type": "code",
   "execution_count": 108,
   "id": "3e9b0c78",
   "metadata": {},
   "outputs": [
    {
     "data": {
      "text/plain": [
       "['Polarized, Riding Glasses, UV Protection Wayfarer Sungl...',\n",
       " 'UV Protection, Polarized Wayfarer Sunglasses (Free Size...',\n",
       " 'UV Protection Wayfarer Sunglasses (Free Size)',\n",
       " 'UV Protection Rectangular Sunglasses (Free Size)',\n",
       " 'UV Protection Rectangular Sunglasses (52)',\n",
       " 'UV Protection Wayfarer Sunglasses (Free Size)',\n",
       " 'UV Protection Rectangular Sunglasses (Free Size)',\n",
       " 'UV Protection Spectacle Sunglasses (Free Size)',\n",
       " 'UV Protection Wayfarer Sunglasses (50)',\n",
       " 'Mirrored, Night Vision, UV Protection, Riding Glasses S...',\n",
       " 'UV Protection, Gradient Rectangular Sunglasses (Free Si...',\n",
       " 'Toughened Glass Lens, UV Protection, Riding Glasses, Ph...',\n",
       " 'Night Vision, UV Protection Round Sunglasses (54)',\n",
       " 'Gradient, UV Protection Wayfarer Sunglasses (Free Size)',\n",
       " 'UV Protection, Polarized Wayfarer Sunglasses (Free Size...',\n",
       " 'UV Protection Shield Sunglasses (Free Size)',\n",
       " 'UV Protection, Gradient Retro Square Sunglasses (62)',\n",
       " 'Polarized, UV Protection Aviator Sunglasses (55)',\n",
       " 'Gradient, UV Protection Wayfarer Sunglasses (Free Size)',\n",
       " 'UV Protection Cat-eye, Retro Square, Oval, Round Sungla...',\n",
       " 'UV Protection Oval Sunglasses (Free Size)',\n",
       " 'UV Protection, Gradient Round Sunglasses (Free Size)',\n",
       " 'UV Protection Aviator Sunglasses (54)',\n",
       " 'UV Protection Wayfarer Sunglasses (Free Size)',\n",
       " 'Polarized Retro Square Sunglasses (Free Size)',\n",
       " 'Others Cat-eye, Retro Square, Wayfarer Sunglasses (54)',\n",
       " 'Gradient, Toughened Glass Lens, UV Protection Retro Squ...',\n",
       " 'UV Protection Rectangular Sunglasses (Free Size)',\n",
       " 'UV Protection, Polarized, Mirrored Rectangular Sunglass...',\n",
       " 'Polarized, Riding Glasses Sports, Wrap-around Sunglasse...',\n",
       " 'UV Protection Rectangular Sunglasses (Free Size)',\n",
       " 'UV Protection, Gradient Butterfly, Shield Sunglasses (6...',\n",
       " 'UV Protection Round Sunglasses (54)',\n",
       " 'UV Protection Aviator Sunglasses (58)',\n",
       " 'UV Protection Aviator Sunglasses (Free Size)',\n",
       " 'UV Protection Wayfarer Sunglasses (59)',\n",
       " 'UV Protection, Polarized Round Sunglasses (54)',\n",
       " 'UV Protection Aviator Sunglasses (58)',\n",
       " 'UV Protection Aviator Sunglasses (58)',\n",
       " 'Gradient, UV Protection Wayfarer Sunglasses (Free Size)']"
      ]
     },
     "execution_count": 108,
     "metadata": {},
     "output_type": "execute_result"
    }
   ],
   "source": [
    "products=driver.find_elements(By.XPATH,'//a[@class=\"IRpwTa\"]')\n",
    "for i in products:\n",
    "    product=i.text\n",
    "    Product_description.append(product)\n",
    "    if len(Product_description)==40:\n",
    "        break\n",
    "Product_description"
   ]
  },
  {
   "cell_type": "code",
   "execution_count": 109,
   "id": "2443571b",
   "metadata": {},
   "outputs": [
    {
     "data": {
      "text/plain": [
       "['₹1,399',\n",
       " '₹299',\n",
       " '₹649',\n",
       " '₹519',\n",
       " '₹209',\n",
       " '₹629',\n",
       " '₹265',\n",
       " '₹379',\n",
       " '₹149',\n",
       " '₹265',\n",
       " '₹426',\n",
       " '₹1,399',\n",
       " '₹199',\n",
       " '₹579',\n",
       " '₹283',\n",
       " '₹649',\n",
       " '₹474',\n",
       " '₹474',\n",
       " '₹519',\n",
       " '₹176',\n",
       " '₹227',\n",
       " '₹379',\n",
       " '₹251',\n",
       " '₹649',\n",
       " '₹559',\n",
       " '₹197',\n",
       " '₹575',\n",
       " '₹222',\n",
       " '₹185',\n",
       " '₹474',\n",
       " '₹190',\n",
       " '₹379',\n",
       " '₹268',\n",
       " '₹323',\n",
       " '₹579',\n",
       " '₹649',\n",
       " '₹699',\n",
       " '₹249',\n",
       " '₹939',\n",
       " '₹679']"
      ]
     },
     "execution_count": 109,
     "metadata": {},
     "output_type": "execute_result"
    }
   ],
   "source": [
    "price=driver.find_elements(By.XPATH,'//div[@class=\"_30jeq3\"]')\n",
    "for i in price:\n",
    "    price=i.text\n",
    "    Price_product.append(price)\n",
    "    if len(Price_product)==40:\n",
    "        break\n",
    "Price_product"
   ]
  },
  {
   "cell_type": "code",
   "execution_count": 110,
   "id": "37aca3af",
   "metadata": {},
   "outputs": [
    {
     "data": {
      "text/plain": [
       "['72% off',\n",
       " '80% off',\n",
       " '35% off',\n",
       " '35% off',\n",
       " '86% off',\n",
       " '30% off',\n",
       " '86% off',\n",
       " '81% off',\n",
       " '88% off',\n",
       " '82% off',\n",
       " '78% off',\n",
       " '72% off',\n",
       " '80% off',\n",
       " '35% off',\n",
       " '78% off',\n",
       " '27% off',\n",
       " '76% off',\n",
       " '76% off',\n",
       " '35% off',\n",
       " '82% off',\n",
       " '49% off',\n",
       " '81% off',\n",
       " '84% off',\n",
       " '35% off',\n",
       " '30% off',\n",
       " '83% off',\n",
       " '80% off',\n",
       " '77% off',\n",
       " '89% off',\n",
       " '76% off',\n",
       " '80% off',\n",
       " '86% off',\n",
       " '89% off',\n",
       " '87% off',\n",
       " '35% off',\n",
       " '67% off',\n",
       " '65% off',\n",
       " '79% off',\n",
       " '27% off',\n",
       " '24% off']"
      ]
     },
     "execution_count": 110,
     "metadata": {},
     "output_type": "execute_result"
    }
   ],
   "source": [
    "discount=driver.find_elements(By.XPATH,'//div[@class=\"_3Ay6Sb\"]')\n",
    "for i in discount:\n",
    "    discount=i.text\n",
    "    Product_discount.append(discount)\n",
    "    if len(Product_discount)==40:\n",
    "        break\n",
    "Product_discount"
   ]
  },
  {
   "cell_type": "code",
   "execution_count": 111,
   "id": "5fba0fb0",
   "metadata": {},
   "outputs": [
    {
     "name": "stdout",
     "output_type": "stream",
     "text": [
      "40 40 40 40\n"
     ]
    }
   ],
   "source": [
    "print(len(glass_brand),len(Product_description),len(Price_product),len(Product_discount))"
   ]
  },
  {
   "cell_type": "code",
   "execution_count": 112,
   "id": "b5b16593",
   "metadata": {},
   "outputs": [],
   "source": [
    "next_button=driver.find_element(By.XPATH,'/html/body/div[1]/div/div[3]/div[1]/div[2]/div[12]/div/div/nav/a[11]/span')\n",
    "next_button.click()\n",
    "time.sleep(5)"
   ]
  },
  {
   "cell_type": "code",
   "execution_count": 113,
   "id": "de230ec1",
   "metadata": {},
   "outputs": [
    {
     "data": {
      "text/plain": [
       "['Silver Kartz',\n",
       " 'ROZZETTA CRAFT',\n",
       " 'PIRASO',\n",
       " 'Fastrack',\n",
       " 'PIRASO',\n",
       " 'Fastrack',\n",
       " 'Silver Kartz',\n",
       " 'Poshh eyewear',\n",
       " 'Urbanic',\n",
       " 'DEIXELS',\n",
       " 'ROYAL SON',\n",
       " 'ROYAL SON',\n",
       " 'Fastrack',\n",
       " 'GANSTA',\n",
       " 'ROZZETTA CRAFT',\n",
       " 'PIRASO',\n",
       " 'Silver Kartz',\n",
       " 'ROYAL SON',\n",
       " 'ROZZETTA CRAFT',\n",
       " 'kingsunglasses',\n",
       " 'Singco India',\n",
       " 'ROZZETTA CRAFT',\n",
       " 'GANSTA',\n",
       " 'Satyam Kraft',\n",
       " 'PIRASO',\n",
       " 'PHENOMENAL',\n",
       " 'ROYAL SON',\n",
       " 'VINCENT CHASE',\n",
       " 'Rich Club',\n",
       " 'kingsunglasses',\n",
       " 'Silver Kartz',\n",
       " 'ROYAL SON',\n",
       " 'kingsunglasses',\n",
       " 'Fastrack',\n",
       " 'GANSTA',\n",
       " 'Lee Topper',\n",
       " 'VINCENT CHASE',\n",
       " 'ROYAL SON',\n",
       " 'IDEE',\n",
       " 'Urbanic']"
      ]
     },
     "execution_count": 113,
     "metadata": {},
     "output_type": "execute_result"
    }
   ],
   "source": [
    "glass_brand1=[]\n",
    "brand1=driver.find_elements(By.XPATH,'//div[@class=\"_2WkVRV\"]')\n",
    "for i in brand1:\n",
    "    brand1=i.text\n",
    "    glass_brand1.append(brand1)\n",
    "glass_brand1"
   ]
  },
  {
   "cell_type": "code",
   "execution_count": 114,
   "id": "a8bbc2c3",
   "metadata": {},
   "outputs": [
    {
     "data": {
      "text/plain": [
       "['UV Protection Clubmaster Sunglasses (53)',\n",
       " 'UV Protection, Gradient Retro Square Sunglasses (Free S...',\n",
       " 'UV Protection Aviator Sunglasses (54)',\n",
       " 'Gradient, UV Protection Wayfarer Sunglasses (Free Size)',\n",
       " 'UV Protection Wayfarer Sunglasses (32)',\n",
       " 'UV Protection Aviator Sunglasses (58)',\n",
       " 'UV Protection Wayfarer Sunglasses (Free Size)',\n",
       " 'UV Protection Retro Square Sunglasses (Free Size)',\n",
       " 'Others Retro Square Sunglasses (Free Size)',\n",
       " 'Polarized, UV Protection, Riding Glasses Wayfarer Sungl...',\n",
       " 'Gradient, UV Protection Round, Oval, Cat-eye Sunglasses...',\n",
       " 'UV Protection, Polarized Round Sunglasses (54)',\n",
       " 'UV Protection Aviator Sunglasses (Free Size)',\n",
       " 'Gradient, UV Protection Aviator Sunglasses (57)',\n",
       " 'UV Protection, Gradient Rectangular Sunglasses (Free Si...',\n",
       " 'UV Protection Aviator Sunglasses (Free Size)',\n",
       " 'UV Protection, Others Wayfarer Sunglasses (50)',\n",
       " 'Polarized, UV Protection Aviator Sunglasses (57)',\n",
       " 'UV Protection Aviator Sunglasses (55)',\n",
       " 'UV Protection Rectangular Sunglasses (Free Size)',\n",
       " 'Mirrored, UV Protection, Riding Glasses, Others Wrap-ar...',\n",
       " 'UV Protection, Gradient Butterfly Sunglasses (62)',\n",
       " 'UV Protection Retro Square Sunglasses (53)',\n",
       " 'Others Spectacle Sunglasses (Free Size)',\n",
       " 'UV Protection Wayfarer Sunglasses (55)',\n",
       " 'UV Protection Retro Square Sunglasses (Free Size)',\n",
       " 'UV Protection Rectangular, Retro Square Sunglasses (58)',\n",
       " 'by Lenskart Polarized, UV Protection Round Sunglasses (...',\n",
       " 'UV Protection Retro Square Sunglasses (54)',\n",
       " 'Mirrored, UV Protection Wayfarer Sunglasses (Free Size)',\n",
       " 'UV Protection Wayfarer, Aviator Sunglasses (88)',\n",
       " 'UV Protection Round Sunglasses (54)',\n",
       " 'UV Protection, Night Vision Wayfarer Sunglasses (Free S...',\n",
       " 'Mirrored, UV Protection Wayfarer Sunglasses (Free Size)',\n",
       " 'Night Vision, Riding Glasses Rectangular Sunglasses (60...',\n",
       " 'UV Protection Rectangular Sunglasses (Free Size)',\n",
       " 'by Lenskart Polarized, UV Protection Rectangular Sungla...',\n",
       " 'UV Protection, Polarized Round Sunglasses (54)',\n",
       " 'UV Protection Cat-eye Sunglasses (17)',\n",
       " 'Others Retro Square Sunglasses (Free Size)']"
      ]
     },
     "execution_count": 114,
     "metadata": {},
     "output_type": "execute_result"
    }
   ],
   "source": [
    "Product_description1=[]\n",
    "products1=driver.find_elements(By.XPATH,'//a[@class=\"IRpwTa\"]')\n",
    "for i in products1:\n",
    "    product1=i.text\n",
    "    Product_description1.append(product1)\n",
    "Product_description1"
   ]
  },
  {
   "cell_type": "code",
   "execution_count": 115,
   "id": "c69646db",
   "metadata": {},
   "outputs": [
    {
     "data": {
      "text/plain": [
       "['₹279',\n",
       " '₹331',\n",
       " '₹251',\n",
       " '₹679',\n",
       " '₹251',\n",
       " '₹939',\n",
       " '₹288',\n",
       " '₹199',\n",
       " '₹359',\n",
       " '₹236',\n",
       " '₹664',\n",
       " '₹664',\n",
       " '₹579',\n",
       " '₹296',\n",
       " '₹379',\n",
       " '₹314',\n",
       " '₹359',\n",
       " '₹759',\n",
       " '₹616',\n",
       " '₹222',\n",
       " '₹296',\n",
       " '₹339',\n",
       " '₹220',\n",
       " '₹299',\n",
       " '₹251',\n",
       " '₹350',\n",
       " '₹474',\n",
       " '₹949',\n",
       " '₹292',\n",
       " '₹260',\n",
       " '₹288',\n",
       " '₹664',\n",
       " '₹282',\n",
       " '₹809',\n",
       " '₹228',\n",
       " '₹219',\n",
       " '₹749',\n",
       " '₹664',\n",
       " '₹959',\n",
       " '₹439']"
      ]
     },
     "execution_count": 115,
     "metadata": {},
     "output_type": "execute_result"
    }
   ],
   "source": [
    "Price_product1=[]\n",
    "price1=driver.find_elements(By.XPATH,'//div[@class=\"_30jeq3\"]')\n",
    "for i in price1:\n",
    "    price1=i.text\n",
    "    Price_product1.append(price1)\n",
    "Price_product1"
   ]
  },
  {
   "cell_type": "code",
   "execution_count": 116,
   "id": "3461dc1d",
   "metadata": {},
   "outputs": [
    {
     "data": {
      "text/plain": [
       "['81% off',\n",
       " '83% off',\n",
       " '84% off',\n",
       " '24% off',\n",
       " '84% off',\n",
       " '27% off',\n",
       " '80% off',\n",
       " '80% off',\n",
       " '54% off',\n",
       " '60% off',\n",
       " '55% off',\n",
       " '66% off',\n",
       " '27% off',\n",
       " '85% off',\n",
       " '81% off',\n",
       " '80% off',\n",
       " '75% off',\n",
       " '62% off',\n",
       " '75% off',\n",
       " '77% off',\n",
       " '85% off',\n",
       " '83% off',\n",
       " '87% off',\n",
       " '75% off',\n",
       " '84% off',\n",
       " '82% off',\n",
       " '68% off',\n",
       " '52% off',\n",
       " '58% off',\n",
       " '82% off',\n",
       " '75% off',\n",
       " '66% off',\n",
       " '81% off',\n",
       " '19% off',\n",
       " '82% off',\n",
       " '78% off',\n",
       " '62% off',\n",
       " '66% off',\n",
       " '63% off',\n",
       " '59% off']"
      ]
     },
     "execution_count": 116,
     "metadata": {},
     "output_type": "execute_result"
    }
   ],
   "source": [
    "Product_discount1=[]\n",
    "discount1=driver.find_elements(By.XPATH,'//div[@class=\"_3Ay6Sb\"]')\n",
    "for i in discount1:\n",
    "    discount1=i.text\n",
    "    Product_discount1.append(discount1)\n",
    "Product_discount1"
   ]
  },
  {
   "cell_type": "code",
   "execution_count": 117,
   "id": "e4bb7a79",
   "metadata": {},
   "outputs": [],
   "source": [
    "driver.close()"
   ]
  },
  {
   "cell_type": "code",
   "execution_count": 118,
   "id": "265b817d",
   "metadata": {},
   "outputs": [],
   "source": [
    "import selenium\n",
    "from selenium import webdriver\n",
    "import pandas as pd\n",
    "from selenium.webdriver.common.by import By\n",
    "import warnings\n",
    "warnings.filterwarnings(\"ignore\")\n",
    "import time\n",
    "from selenium.common.exceptions import NoSuchWindowException"
   ]
  },
  {
   "cell_type": "code",
   "execution_count": 119,
   "id": "9313cdb4",
   "metadata": {},
   "outputs": [],
   "source": [
    "driver = webdriver.Chrome(r'C:\\Users\\ASUS\\Desktop\\sneha\\Datatrained\\chromedriver_win32\\chromedriver.exe')"
   ]
  },
  {
   "cell_type": "code",
   "execution_count": 120,
   "id": "8140ed3b",
   "metadata": {},
   "outputs": [],
   "source": [
    "driver.maximize_window()"
   ]
  },
  {
   "cell_type": "code",
   "execution_count": 121,
   "id": "32b5fad7",
   "metadata": {},
   "outputs": [],
   "source": [
    "url = 'https://www.jagranjosh.com/'\n",
    "driver.get(url)"
   ]
  },
  {
   "cell_type": "code",
   "execution_count": 122,
   "id": "129e5ef8",
   "metadata": {},
   "outputs": [],
   "source": [
    "s_g = driver.find_element(By.XPATH,'/html/body/div/div[1]/div/div[1]/div/div[6]/div/div[1]/header/div[3]/ul/li[9]/a').click();"
   ]
  },
  {
   "cell_type": "code",
   "execution_count": 123,
   "id": "5ee7b6f3",
   "metadata": {},
   "outputs": [],
   "source": [
    "list_pm = driver.find_element(By.XPATH,'/html/body/div[1]/div/div/div[2]/div/div[10]/div/div/ul/li[2]/a').click();"
   ]
  },
  {
   "cell_type": "code",
   "execution_count": 124,
   "id": "8ce765dd",
   "metadata": {},
   "outputs": [],
   "source": [
    "table = driver.find_element(By.XPATH,'/html/body/div[1]/div[2]/div/div[2]/div/div[1]/div/div/div/div[5]/span/div[2]').click();"
   ]
  },
  {
   "cell_type": "code",
   "execution_count": 125,
   "id": "555951c4",
   "metadata": {},
   "outputs": [
    {
     "name": "stdout",
     "output_type": "stream",
     "text": [
      "Jawahar Lal Nehru\n"
     ]
    }
   ],
   "source": [
    "L_name =[]\n",
    "name = driver.find_elements(By.XPATH,'//table/tbody/tr[2]/td[2]/p/strong')\n",
    "for L_name in name:\n",
    "    print(L_name.text)\n",
    "   "
   ]
  },
  {
   "cell_type": "code",
   "execution_count": 126,
   "id": "77b28f41",
   "metadata": {},
   "outputs": [
    {
     "name": "stdout",
     "output_type": "stream",
     "text": [
      "(1889–1964)\n"
     ]
    }
   ],
   "source": [
    "B_D =[]\n",
    "born_dead = driver.find_elements(By.XPATH,'//table/tbody/tr[2]/td[3]/p')\n",
    "for B_D in born_dead:\n",
    "    print(B_D .text)"
   ]
  },
  {
   "cell_type": "code",
   "execution_count": 127,
   "id": "4c4395ed",
   "metadata": {},
   "outputs": [
    {
     "name": "stdout",
     "output_type": "stream",
     "text": [
      "16 years, 286 days\n"
     ]
    }
   ],
   "source": [
    "term_of_office =[]\n",
    "t_o_o = driver.find_elements(By.XPATH,'//table/tbody/tr[2]/td[4]/p[2]/span')\n",
    "for term_of_office in t_o_o:\n",
    "    print(term_of_office .text)"
   ]
  },
  {
   "cell_type": "code",
   "execution_count": 128,
   "id": "222887bf",
   "metadata": {},
   "outputs": [
    {
     "name": "stdout",
     "output_type": "stream",
     "text": [
      "The first prime minister of India and the longest-serving PM of India, the first to die in office.\n"
     ]
    }
   ],
   "source": [
    "r = []\n",
    "remark = driver.find_elements(By.XPATH,'//table/tbody/tr[2]/td[5]/p')\n",
    "for r in remark:\n",
    "    print(r.text)"
   ]
  },
  {
   "cell_type": "code",
   "execution_count": 131,
   "id": "bb38dafe",
   "metadata": {},
   "outputs": [
    {
     "ename": "TypeError",
     "evalue": "'WebElement' object is not subscriptable",
     "output_type": "error",
     "traceback": [
      "\u001b[1;31m---------------------------------------------------------------------------\u001b[0m",
      "\u001b[1;31mTypeError\u001b[0m                                 Traceback (most recent call last)",
      "Input \u001b[1;32mIn [131]\u001b[0m, in \u001b[0;36m<cell line: 2>\u001b[1;34m()\u001b[0m\n\u001b[0;32m      1\u001b[0m list_of_pm \u001b[38;5;241m=\u001b[39m[]\n\u001b[0;32m      2\u001b[0m \u001b[38;5;28;01mfor\u001b[39;00m i \u001b[38;5;129;01min\u001b[39;00m \u001b[38;5;28mrange\u001b[39m(\u001b[38;5;28mlen\u001b[39m(name)):\n\u001b[1;32m----> 3\u001b[0m     temp_data \u001b[38;5;241m=\u001b[39m {\u001b[38;5;124m'\u001b[39m\u001b[38;5;124mNAME\u001b[39m\u001b[38;5;124m'\u001b[39m: \u001b[43mL_name\u001b[49m\u001b[43m[\u001b[49m\u001b[43mi\u001b[49m\u001b[43m]\u001b[49m\u001b[38;5;241m.\u001b[39mtext,\n\u001b[0;32m      4\u001b[0m                 \u001b[38;5;124m'\u001b[39m\u001b[38;5;124mBORN_DEAD\u001b[39m\u001b[38;5;124m'\u001b[39m: B_D[i]\u001b[38;5;241m.\u001b[39mtext,\n\u001b[0;32m      5\u001b[0m                 \u001b[38;5;124m'\u001b[39m\u001b[38;5;124mTERM_OF_OFFICE\u001b[39m\u001b[38;5;124m'\u001b[39m: term_of_office[i]\u001b[38;5;241m.\u001b[39mtext,\n\u001b[0;32m      6\u001b[0m                 \u001b[38;5;124m'\u001b[39m\u001b[38;5;124mREMARK\u001b[39m\u001b[38;5;124m'\u001b[39m: r[i]\u001b[38;5;241m.\u001b[39mtext}\n\u001b[0;32m      7\u001b[0m list_of_pm\u001b[38;5;241m.\u001b[39mappend(temp_data)\n",
      "\u001b[1;31mTypeError\u001b[0m: 'WebElement' object is not subscriptable"
     ]
    }
   ],
   "source": [
    "list_of_pm =[]\n",
    "for i in range(len(name)):\n",
    "    temp_data = {'NAME': L_name[i].text,\n",
    "                'BORN_DEAD': B_D[i].text,\n",
    "                'TERM_OF_OFFICE': term_of_office[i].text,\n",
    "                'REMARK': r[i].text}\n",
    "list_of_pm.append(temp_data) "
   ]
  },
  {
   "cell_type": "code",
   "execution_count": 130,
   "id": "b846943a",
   "metadata": {},
   "outputs": [
    {
     "data": {
      "text/html": [
       "<div>\n",
       "<style scoped>\n",
       "    .dataframe tbody tr th:only-of-type {\n",
       "        vertical-align: middle;\n",
       "    }\n",
       "\n",
       "    .dataframe tbody tr th {\n",
       "        vertical-align: top;\n",
       "    }\n",
       "\n",
       "    .dataframe thead th {\n",
       "        text-align: right;\n",
       "    }\n",
       "</style>\n",
       "<table border=\"1\" class=\"dataframe\">\n",
       "  <thead>\n",
       "    <tr style=\"text-align: right;\">\n",
       "      <th></th>\n",
       "    </tr>\n",
       "  </thead>\n",
       "  <tbody>\n",
       "  </tbody>\n",
       "</table>\n",
       "</div>"
      ],
      "text/plain": [
       "Empty DataFrame\n",
       "Columns: []\n",
       "Index: []"
      ]
     },
     "execution_count": 130,
     "metadata": {},
     "output_type": "execute_result"
    }
   ],
   "source": [
    "df_data = pd.DataFrame(list_of_pm)\n",
    "df_data"
   ]
  },
  {
   "cell_type": "code",
   "execution_count": 132,
   "id": "e9f6a788",
   "metadata": {},
   "outputs": [],
   "source": [
    "driver.close()\n"
   ]
  },
  {
   "cell_type": "code",
   "execution_count": 133,
   "id": "b1ffb5fd",
   "metadata": {},
   "outputs": [],
   "source": [
    "import selenium\n",
    "from selenium import webdriver\n",
    "import pandas as pd\n",
    "from selenium.webdriver.common.by import By\n",
    "import warnings\n",
    "warnings.filterwarnings(\"ignore\")\n",
    "import time"
   ]
  },
  {
   "cell_type": "code",
   "execution_count": 134,
   "id": "eb10c0aa",
   "metadata": {},
   "outputs": [],
   "source": [
    "driver = webdriver.Chrome(r'C:\\Users\\ASUS\\Desktop\\sneha\\Datatrained\\chromedriver_win32\\chromedriver.exe')"
   ]
  },
  {
   "cell_type": "code",
   "execution_count": 135,
   "id": "e387df54",
   "metadata": {},
   "outputs": [],
   "source": [
    "driver.maximize_window()\n"
   ]
  },
  {
   "cell_type": "code",
   "execution_count": 136,
   "id": "39599f0f",
   "metadata": {},
   "outputs": [],
   "source": [
    "url = 'https://www.azquotes.com/'\n",
    "driver.get(url)"
   ]
  },
  {
   "cell_type": "code",
   "execution_count": 137,
   "id": "076196b3",
   "metadata": {},
   "outputs": [],
   "source": [
    "top_quotes = driver.find_element(By.XPATH,'/html/body/div[1]/div[1]/div[1]/div/div[3]/ul/li[5]/a')  \n",
    "top_quotes.click()\n"
   ]
  },
  {
   "cell_type": "code",
   "execution_count": 138,
   "id": "8687f57c",
   "metadata": {},
   "outputs": [],
   "source": [
    "search_quotes = driver.find_element(By.XPATH,'/html/body/div[1]/div[2]/div/div/div/div[1]/div/ul/li/div/p')\n",
    "search_quotes.click()"
   ]
  },
  {
   "cell_type": "code",
   "execution_count": 139,
   "id": "26801b87",
   "metadata": {},
   "outputs": [],
   "source": [
    "type_quotes = driver.find_element(By.CLASS_NAME,\"author\")\n",
    "type_quotes.click()"
   ]
  },
  {
   "cell_type": "code",
   "execution_count": null,
   "id": "17dd520c",
   "metadata": {},
   "outputs": [],
   "source": []
  }
 ],
 "metadata": {
  "kernelspec": {
   "display_name": "Python 3 (ipykernel)",
   "language": "python",
   "name": "python3"
  },
  "language_info": {
   "codemirror_mode": {
    "name": "ipython",
    "version": 3
   },
   "file_extension": ".py",
   "mimetype": "text/x-python",
   "name": "python",
   "nbconvert_exporter": "python",
   "pygments_lexer": "ipython3",
   "version": "3.9.12"
  }
 },
 "nbformat": 4,
 "nbformat_minor": 5
}
